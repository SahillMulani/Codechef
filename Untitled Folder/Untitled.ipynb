{
 "cells": [
  {
   "cell_type": "code",
   "execution_count": 19,
   "id": "0c7ce926",
   "metadata": {},
   "outputs": [],
   "source": [
    "mylist = [1,2,3,1]\n",
    "newlist = []\n",
    "for i in range(len(mylist)):\n",
    "    newlist.append([mylist[i],i])"
   ]
  },
  {
   "cell_type": "code",
   "execution_count": 9,
   "id": "5e8b7401",
   "metadata": {},
   "outputs": [],
   "source": []
  },
  {
   "cell_type": "code",
   "execution_count": 13,
   "id": "77928cf3",
   "metadata": {},
   "outputs": [],
   "source": [
    "mylist.sort()"
   ]
  },
  {
   "cell_type": "code",
   "execution_count": 20,
   "id": "ff982c1f",
   "metadata": {},
   "outputs": [
    {
     "data": {
      "text/plain": [
       "[[1, 0], [2, 1], [3, 2], [1, 3]]"
      ]
     },
     "execution_count": 20,
     "metadata": {},
     "output_type": "execute_result"
    }
   ],
   "source": [
    "newlist"
   ]
  },
  {
   "cell_type": "code",
   "execution_count": 21,
   "id": "bd871fe3",
   "metadata": {},
   "outputs": [],
   "source": [
    "newlist.sort()"
   ]
  },
  {
   "cell_type": "code",
   "execution_count": 22,
   "id": "47cf9ac2",
   "metadata": {},
   "outputs": [
    {
     "data": {
      "text/plain": [
       "[[1, 0], [1, 3], [2, 1], [3, 2]]"
      ]
     },
     "execution_count": 22,
     "metadata": {},
     "output_type": "execute_result"
    }
   ],
   "source": [
    "newlist"
   ]
  },
  {
   "cell_type": "code",
   "execution_count": 24,
   "id": "1eca4a0f",
   "metadata": {},
   "outputs": [
    {
     "data": {
      "text/plain": [
       "0"
      ]
     },
     "execution_count": 24,
     "metadata": {},
     "output_type": "execute_result"
    }
   ],
   "source": [
    "newlist[0][1]"
   ]
  },
  {
   "cell_type": "code",
   "execution_count": null,
   "id": "63472769",
   "metadata": {},
   "outputs": [],
   "source": []
  },
  {
   "cell_type": "code",
   "execution_count": null,
   "id": "ca04296d",
   "metadata": {},
   "outputs": [],
   "source": []
  },
  {
   "cell_type": "code",
   "execution_count": 28,
   "id": "060fd5b6",
   "metadata": {},
   "outputs": [
    {
     "name": "stdout",
     "output_type": "stream",
     "text": [
      "True\n"
     ]
    }
   ],
   "source": [
    "for i in range(len(newlist) - 1):\n",
    "    if newlist[i][0] == newlist[i+1][0]:\n",
    "         if abs(newlist[i][1] - newlist[i+1][1]) <= 3:\n",
    "                print(True)"
   ]
  },
  {
   "cell_type": "code",
   "execution_count": 31,
   "id": "874c1ba9",
   "metadata": {},
   "outputs": [
    {
     "data": {
      "text/plain": [
       "False"
      ]
     },
     "execution_count": 31,
     "metadata": {},
     "output_type": "execute_result"
    }
   ],
   "source": [
    "def containsNearbyDuplicate(nums: list[int], k: int) -> bool:\n",
    "    newlist = []\n",
    "    for i in range(len(nums)):\n",
    "        newlist.append([nums[i],i])\n",
    "    for i in range(len(newlist) - 1):\n",
    "        if newlist[i][0] == newlist[i+1][0]:\n",
    "            if abs(newlist[i][1] - newlist[i+1][1]) <= k:\n",
    "                    return True\n",
    "    return False\n",
    "\n",
    "nums = [1,2,3,1]\n",
    "containsNearbyDuplicate(nums,3)"
   ]
  },
  {
   "cell_type": "code",
   "execution_count": null,
   "id": "2be1e512",
   "metadata": {},
   "outputs": [],
   "source": []
  }
 ],
 "metadata": {
  "kernelspec": {
   "display_name": "Python 3 (ipykernel)",
   "language": "python",
   "name": "python3"
  },
  "language_info": {
   "codemirror_mode": {
    "name": "ipython",
    "version": 3
   },
   "file_extension": ".py",
   "mimetype": "text/x-python",
   "name": "python",
   "nbconvert_exporter": "python",
   "pygments_lexer": "ipython3",
   "version": "3.10.6"
  }
 },
 "nbformat": 4,
 "nbformat_minor": 5
}
