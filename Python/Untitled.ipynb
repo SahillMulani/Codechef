{
 "cells": [
  {
   "cell_type": "code",
   "execution_count": 4,
   "id": "e3cb084c",
   "metadata": {},
   "outputs": [
    {
     "name": "stdout",
     "output_type": "stream",
     "text": [
      "[[1], [1, 1]]\n"
     ]
    }
   ],
   "source": [
    "mylist = []\n",
    "List = []\n",
    "\n",
    "mylist.append(1)\n",
    "\n",
    "List.append(mylist)\n",
    "mylist = []\n",
    "mylist.append(1)\n",
    "mylist.append(1)\n",
    "\n",
    "List.append(mylist)\n",
    "\n",
    "print(List)"
   ]
  },
  {
   "cell_type": "code",
   "execution_count": 50,
   "id": "8413d3f2",
   "metadata": {},
   "outputs": [
    {
     "name": "stdout",
     "output_type": "stream",
     "text": [
      "2\n",
      "2\n",
      "2\n",
      "2\n",
      "2\n",
      "2\n"
     ]
    }
   ],
   "source": [
    "List = []\n",
    "\n",
    "prevlist = [ ]\n",
    "for i in range(5):\n",
    "    mylist = []\n",
    "    if i == 0 :\n",
    "        mylist.append(1)\n",
    "        List.append(mylist)\n",
    "    elif i == 1 :\n",
    "        mylist.append(1)\n",
    "        mylist.append(1)\n",
    "        prevlist = mylist\n",
    "        List.append(mylist)\n",
    "    else:\n",
    "        mylist.insert(0,1)\n",
    "        mylist.insert(i,1)\n",
    "        for i in mylist[0:i]:\n",
    "             for j in range(len(prevlist) - 1):\n",
    "                    sum = prevlist[j] + prevlist[j+1]\n",
    "                    print(sum)\n",
    "                    mylist.insert(i,sum)\n",
    "        List.append(mylist)\n",
    "        \n",
    "        \n",
    "\n"
   ]
  },
  {
   "cell_type": "code",
   "execution_count": 51,
   "id": "568d175b",
   "metadata": {
    "scrolled": true
   },
   "outputs": [
    {
     "name": "stdout",
     "output_type": "stream",
     "text": [
      "[[1], [1, 1], [1, 2, 2, 1], [1, 2, 2, 1], [1, 2, 2, 1]]\n"
     ]
    }
   ],
   "source": [
    "print(List)"
   ]
  },
  {
   "cell_type": "code",
   "execution_count": 53,
   "id": "afedef72",
   "metadata": {},
   "outputs": [],
   "source": [
    "for i in range(0):\n",
    "    print(i)"
   ]
  },
  {
   "cell_type": "code",
   "execution_count": null,
   "id": "18445b15",
   "metadata": {},
   "outputs": [],
   "source": []
  },
  {
   "cell_type": "code",
   "execution_count": 58,
   "id": "326431bd",
   "metadata": {},
   "outputs": [
    {
     "name": "stdout",
     "output_type": "stream",
     "text": [
      "[[1], [1, 1], [1, 2, 1], [1, 3, 3, 1], [1, 4, 6, 4, 1], [1, 5, 10, 10, 5, 1], [1, 6, 15, 20, 15, 6, 1], [1, 7, 21, 35, 35, 21, 7, 1], [1, 8, 28, 56, 70, 56, 28, 8, 1], [1, 9, 36, 84, 126, 126, 84, 36, 9, 1], [1, 10, 45, 120, 210, 252, 210, 120, 45, 10, 1], [1, 11, 55, 165, 330, 462, 462, 330, 165, 55, 11, 1], [1, 12, 66, 220, 495, 792, 924, 792, 495, 220, 66, 12, 1], [1, 13, 78, 286, 715, 1287, 1716, 1716, 1287, 715, 286, 78, 13, 1], [1, 14, 91, 364, 1001, 2002, 3003, 3432, 3003, 2002, 1001, 364, 91, 14, 1], [1, 15, 105, 455, 1365, 3003, 5005, 6435, 6435, 5005, 3003, 1365, 455, 105, 15, 1], [1, 16, 120, 560, 1820, 4368, 8008, 11440, 12870, 11440, 8008, 4368, 1820, 560, 120, 16, 1], [1, 17, 136, 680, 2380, 6188, 12376, 19448, 24310, 24310, 19448, 12376, 6188, 2380, 680, 136, 17, 1], [1, 18, 153, 816, 3060, 8568, 18564, 31824, 43758, 48620, 43758, 31824, 18564, 8568, 3060, 816, 153, 18, 1], [1, 19, 171, 969, 3876, 11628, 27132, 50388, 75582, 92378, 92378, 75582, 50388, 27132, 11628, 3876, 969, 171, 19, 1]]\n"
     ]
    }
   ],
   "source": [
    "numRows = 20\n",
    "arr = []\n",
    "mylist = []\n",
    "\n",
    "arr.append(1)\n",
    "mylist.append(arr)\n",
    "\n",
    "for i in range(1,numRows):\n",
    "    temp = []\n",
    "    temp.append(1)\n",
    "    prev = mylist[i-1]\n",
    "    for i in range(len(prev) - 1):\n",
    "        temp.append(prev[i]+prev[i+1])\n",
    "    temp.append(1)\n",
    "    mylist.append(temp)\n",
    "    \n",
    "print(mylist)"
   ]
  },
  {
   "cell_type": "code",
   "execution_count": null,
   "id": "71940863",
   "metadata": {},
   "outputs": [],
   "source": []
  }
 ],
 "metadata": {
  "kernelspec": {
   "display_name": "Python 3 (ipykernel)",
   "language": "python",
   "name": "python3"
  },
  "language_info": {
   "codemirror_mode": {
    "name": "ipython",
    "version": 3
   },
   "file_extension": ".py",
   "mimetype": "text/x-python",
   "name": "python",
   "nbconvert_exporter": "python",
   "pygments_lexer": "ipython3",
   "version": "3.10.6"
  }
 },
 "nbformat": 4,
 "nbformat_minor": 5
}
